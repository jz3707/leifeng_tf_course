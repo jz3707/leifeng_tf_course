{
 "cells": [
  {
   "cell_type": "code",
   "execution_count": 1,
   "metadata": {
    "collapsed": true,
    "deletable": true,
    "editable": true
   },
   "outputs": [],
   "source": [
    "import numpy as np\n",
    "import tensorflow as tf\n",
    "from tensorflow.contrib.tensorboard.plugins import projector\n",
    "\n",
    "from process_data import process_data"
   ]
  },
  {
   "cell_type": "code",
   "execution_count": null,
   "metadata": {
    "collapsed": false,
    "deletable": true,
    "editable": true
   },
   "outputs": [],
   "source": [
    "VOCAB_SIZE = 50000\n",
    "BATCH_SIZE = 128\n",
    "EMBED_SIZE = 128 # dimension of the word embedding vectors\n",
    "SKIP_WINDOW = 1 # the context window\n",
    "NUM_SAMPLED = 64    # Number of negative examples to sample.\n",
    "LEARNING_RATE = 1.0\n",
    "NUM_TRAIN_STEPS = 10000\n",
    "SKIP_STEP = 2000 # how many steps to skip before reporting the loss\n",
    "\n",
    "def word2vec(batch_gen):\n",
    "    \"\"\" Build the graph for word2vec model and train it \"\"\"\n",
    "    # Step 1: define the placeholders for input and output\n",
    "    # center_words have to be int to work on embedding lookup\n",
    "\n",
    "    with tf.variable_scope(\"data\"):\n",
    "        train_input = tf.placeholder(tf.int32, [BATCH_SIZE])\n",
    "        train_labels = tf.placeholder(tf.int32, [BATCH_SIZE, 1])\n",
    "\n",
    "    # Step 2: define weights. In word2vec, it's actually the weights that we care about\n",
    "    # vocab size x embed size\n",
    "    # initialized to random uniform -1 to 1\n",
    "\n",
    "    with tf.variable_scope(\"inference\"):\n",
    "        embeddings = tf.Variable(tf.random_uniform([VOCAB_SIZE, EMBED_SIZE], -1.0, 1.0))\n",
    "\n",
    "    # Step 3: define the inference\n",
    "    # get the embed of input words using tf.nn.embedding_lookup\n",
    "    # embed = tf.nn.embedding_lookup(embed_matrix, center_words, name='embed')\n",
    "\n",
    "        embed = tf.nn.embedding_lookup(embeddings, train_input)\n",
    "\n",
    "    # Step 4: construct variables for NCE loss\n",
    "    # tf.nn.nce_loss(weights, biases, labels, inputs, num_sampled, num_classes, ...)\n",
    "    # nce_weight (vocab size x embed size), intialized to truncated_normal stddev=1.0 / (EMBED_SIZE ** 0.5)\n",
    "    # bias: vocab size, initialized to 0\n",
    "\n",
    "    with tf.variable_scope(\"loss\"):\n",
    "        nce_weight = tf.Variable(tf.truncated_normal([VOCAB_SIZE, EMBED_SIZE], stddev=1.0 / (EMBED_SIZE ** 0.5)))\n",
    "        nce_bias = tf.Variable(tf.zeros([VOCAB_SIZE]))\n",
    "\n",
    "    # define loss function to be NCE loss function\n",
    "    # tf.nn.nce_loss(weights, biases, labels, inputs, num_sampled, num_classes, ...)\n",
    "    # need to get the mean accross the batch\n",
    "\n",
    "        loss = tf.reduce_mean(tf.nn.nce_loss(weights=nce_weight,\n",
    "                                      biases=nce_bias,\n",
    "                                      labels=train_labels,\n",
    "                                      inputs=embed,\n",
    "                                      num_sampled=NUM_SAMPLED,\n",
    "                                      num_classes=VOCAB_SIZE))\n",
    "\n",
    "    # Step 5: define optimizer\n",
    "    \n",
    "    with tf.variable_scope(\"optimizer\"):\n",
    "        optimizer = tf.train.GradientDescentOptimizer(learning_rate=1.0).minimize(loss)\n",
    "\n",
    "    with tf.Session() as sess:\n",
    "        \n",
    "        init_op = tf.global_variables_initializer()\n",
    "        sess.run(init_op)\n",
    "\n",
    "        total_loss = 0.0 # we use this to calculate the average loss in the last SKIP_STEP steps\n",
    "        writer = tf.summary.FileWriter('./my_graph/no_frills/', sess.graph)\n",
    "        for index in range(NUM_TRAIN_STEPS):\n",
    "            centers, targets = next(batch_gen)\n",
    "            # TO DO: create feed_dict, run optimizer, fetch loss_batch\n",
    "            feed_dict = {train_input: centers, train_labels: targets}\n",
    "            _, loss_batch = sess.run([optimizer, loss], feed_dict=feed_dict)\n",
    "            total_loss += loss_batch\n",
    "            if (index + 1) % SKIP_STEP == 0:\n",
    "                print('Average loss at step {}: {:5.1f}'.format(index, total_loss / SKIP_STEP))\n",
    "                total_loss = 0.0\n",
    "        writer.close()"
   ]
  },
  {
   "cell_type": "code",
   "execution_count": null,
   "metadata": {
    "collapsed": false,
    "deletable": true,
    "editable": true
   },
   "outputs": [],
   "source": [
    "batch_gen = process_data(VOCAB_SIZE, BATCH_SIZE, SKIP_WINDOW)\n",
    "word2vec(batch_gen)"
   ]
  },
  {
   "cell_type": "code",
   "execution_count": 17,
   "metadata": {
    "collapsed": false
   },
   "outputs": [],
   "source": [
    "import os\n",
    "\n",
    "class SkipGramModel:\n",
    "    \"\"\" Build the graph for word2vec model \"\"\"\n",
    "    def __init__(self, **kwargs):\n",
    "        self.vocab_size = kwargs.get('vocab_size', 50000)\n",
    "        self.batch_size = kwargs.get('batch_size', 128)\n",
    "        self.embed_size = kwargs.get('embed_size', 128)\n",
    "        self.skip_window = kwargs.get('skip_window', 1)\n",
    "        self.num_sampled = kwargs.get('num_sampled', 64)\n",
    "        self.learning_rate = kwargs.get('learning_rate', 1.0)\n",
    "        self.num_train_steps = kwargs.get('num_train_steps', 10000)\n",
    "        self.skip_step = kwargs.get('skip_step', 2000)\n",
    "        \n",
    "        self._create_placeholders()\n",
    "        self._create_embedding()\n",
    "        self._create_loss()\n",
    "        self._create_optimizer()\n",
    "        self._create_summaries()\n",
    "    \n",
    "    def _create_placeholders(self):\n",
    "        \"\"\" Step 1: define the placeholders for input and output \"\"\"\n",
    "        with tf.variable_scope(\"data\"):\n",
    "            self.train_input = tf.placeholder(tf.int32, [self.batch_size])\n",
    "            self.train_labels = tf.placeholder(tf.int32, [self.batch_size, 1])\n",
    "            \n",
    "    def _create_embedding(self):\n",
    "        \"\"\" Step 2: define weights. In word2vec, it's actually the weights that we care about \"\"\"\n",
    "        with tf.variable_scope(\"inference\"):\n",
    "            self.embeddings = tf.Variable(tf.random_uniform([self.vocab_size, self.embed_size], -1.0, 1.0))\n",
    "    \n",
    "    def _create_loss(self):\n",
    "        \"\"\" Step 3 + 4: define the inference + the loss function \"\"\"\n",
    "        with tf.variable_scope(\"loss\"):\n",
    "            embed = tf.nn.embedding_lookup(self.embeddings, self.train_input)\n",
    "            nce_weight = tf.Variable(tf.truncated_normal([self.vocab_size, self.embed_size], stddev=1.0 / (self.embed_size ** 0.5)))\n",
    "            nce_bias = tf.Variable(tf.zeros([self.vocab_size]))\n",
    "            self.loss = tf.reduce_mean(tf.nn.nce_loss(weights=nce_weight,\n",
    "                                      biases=nce_bias,\n",
    "                                      labels=self.train_labels,\n",
    "                                      inputs=embed,\n",
    "                                      num_sampled=self.num_sampled,\n",
    "                                      num_classes=self.vocab_size))\n",
    "    \n",
    "    def _create_optimizer(self):\n",
    "        \"\"\" Step 5: define optimizer \"\"\"\n",
    "        with tf.variable_scope(\"optimizer\"):\n",
    "            self.optimizer = tf.train.GradientDescentOptimizer(learning_rate=1.0).minimize(self.loss)\n",
    "    \n",
    "    def _create_summaries(self):\n",
    "        with tf.name_scope(\"summaries\"):\n",
    "            tf.summary.scalar(\"loss\", self.loss)\n",
    "            tf.summary.histogram(\"embedding\", self.embeddings)\n",
    "            # merge them all\n",
    "            self.summary_op = tf.summary.merge_all()\n",
    "    \n",
    "    def visualize_embeddings(self, sess, writer, logdir):\n",
    "        config = projector.ProjectorConfig()\n",
    "        final_embed_matrix = sess.run(self.embeddings)\n",
    "        \n",
    "        # it has to variable. constants don't work here. you can't reuse model.embed_matrix\n",
    "        embedding_var = tf.Variable(final_embed_matrix[:1000], name='embedding')\n",
    "        sess.run(embedding_var.initializer)\n",
    "\n",
    "        # add embedding to the config file\n",
    "        embedding = config.embeddings.add()\n",
    "        embedding.tensor_name = embedding_var.name\n",
    "        embedding.metadata_path = 'processed/vocab_1000.tsv'\n",
    "\n",
    "        # saves a configuration file that TensorBoard will read during startup.\n",
    "        projector.visualize_embeddings(summary_writer, config)\n",
    "        saver_embed = tf.train.Saver([embedding_var])\n",
    "        saver_embed.save(sess, logdir + 'embed.ckpt', 1)\n",
    "    \n",
    "    def fit(self, batch_gen):\n",
    "        logdir = './my_graph/lr{}/'.format(self.learning_rate)\n",
    "        \n",
    "        saver = tf.train.Saver()\n",
    "        with tf.Session() as sess:\n",
    "        \n",
    "            init_op = tf.global_variables_initializer()\n",
    "            sess.run(init_op)\n",
    "\n",
    "            total_loss = 0.0 # we use this to calculate the average loss in the last SKIP_STEP steps\n",
    "            writer = tf.summary.FileWriter(logdir, sess.graph)\n",
    "            for index in range(self.num_train_steps):\n",
    "                centers, targets = next(batch_gen)\n",
    "                # TO DO: create feed_dict, run optimizer, fetch loss_batch\n",
    "                feed_dict = {self.train_input: centers, self.train_labels: targets}\n",
    "                _, loss_batch = sess.run([self.optimizer, self.loss], feed_dict=feed_dict)\n",
    "                total_loss += loss_batch\n",
    "                if (index + 1) % self.skip_step == 0:\n",
    "                    summary = sess.run(self.summary_op, feed_dict=feed_dict)\n",
    "                    writer.add_summary(summary, global_step=index)\n",
    "                    saver.save(sess, logdir + \"model.ckpt\", global_step=index)\n",
    "                    print('Average loss at step {}: {:5.1f}'.format(index, total_loss / self.skip_step))\n",
    "                    total_loss = 0.0\n",
    "            self.visualize_embeddings(sess, writer, logdir)\n",
    "            writer.close()"
   ]
  },
  {
   "cell_type": "code",
   "execution_count": 18,
   "metadata": {
    "collapsed": false
   },
   "outputs": [
    {
     "name": "stdout",
     "output_type": "stream",
     "text": [
      "Dataset ready\n",
      "Average loss at step 1999: 114.0\n",
      "Average loss at step 3999:  52.7\n",
      "Average loss at step 5999:  33.4\n",
      "Average loss at step 7999:  23.6\n",
      "Average loss at step 9999:  17.6\n"
     ]
    },
    {
     "ename": "NameError",
     "evalue": "name 'summary_writer' is not defined",
     "output_type": "error",
     "traceback": [
      "\u001b[0;31m---------------------------------------------------------------------------\u001b[0m",
      "\u001b[0;31mNameError\u001b[0m                                 Traceback (most recent call last)",
      "\u001b[0;32m<ipython-input-18-9ef9b5bb3712>\u001b[0m in \u001b[0;36m<module>\u001b[0;34m()\u001b[0m\n\u001b[1;32m      6\u001b[0m \u001b[0mbatch_gen\u001b[0m \u001b[0;34m=\u001b[0m \u001b[0mprocess_data\u001b[0m\u001b[0;34m(\u001b[0m\u001b[0mVOCAB_SIZE\u001b[0m\u001b[0;34m,\u001b[0m \u001b[0mBATCH_SIZE\u001b[0m\u001b[0;34m,\u001b[0m \u001b[0mSKIP_WINDOW\u001b[0m\u001b[0;34m)\u001b[0m\u001b[0;34m\u001b[0m\u001b[0m\n\u001b[1;32m      7\u001b[0m \u001b[0mmodel\u001b[0m \u001b[0;34m=\u001b[0m \u001b[0mSkipGramModel\u001b[0m\u001b[0;34m(\u001b[0m\u001b[0mvocab_size\u001b[0m\u001b[0;34m=\u001b[0m\u001b[0mVOCAB_SIZE\u001b[0m\u001b[0;34m,\u001b[0m \u001b[0mbatch_gen\u001b[0m\u001b[0;34m=\u001b[0m\u001b[0mBATCH_SIZE\u001b[0m\u001b[0;34m,\u001b[0m \u001b[0mskip_window\u001b[0m\u001b[0;34m=\u001b[0m\u001b[0mSKIP_WINDOW\u001b[0m\u001b[0;34m,\u001b[0m \u001b[0mlearning_rate\u001b[0m\u001b[0;34m=\u001b[0m\u001b[0;36m0.5\u001b[0m\u001b[0;34m)\u001b[0m\u001b[0;34m\u001b[0m\u001b[0m\n\u001b[0;32m----> 8\u001b[0;31m \u001b[0mmodel\u001b[0m\u001b[0;34m.\u001b[0m\u001b[0mfit\u001b[0m\u001b[0;34m(\u001b[0m\u001b[0mbatch_gen\u001b[0m\u001b[0;34m)\u001b[0m\u001b[0;34m\u001b[0m\u001b[0m\n\u001b[0m",
      "\u001b[0;32m<ipython-input-17-27d913f016b5>\u001b[0m in \u001b[0;36mfit\u001b[0;34m(self, batch_gen)\u001b[0m\n\u001b[1;32m     96\u001b[0m                     \u001b[0mprint\u001b[0m\u001b[0;34m(\u001b[0m\u001b[0;34m'Average loss at step {}: {:5.1f}'\u001b[0m\u001b[0;34m.\u001b[0m\u001b[0mformat\u001b[0m\u001b[0;34m(\u001b[0m\u001b[0mindex\u001b[0m\u001b[0;34m,\u001b[0m \u001b[0mtotal_loss\u001b[0m \u001b[0;34m/\u001b[0m \u001b[0mself\u001b[0m\u001b[0;34m.\u001b[0m\u001b[0mskip_step\u001b[0m\u001b[0;34m)\u001b[0m\u001b[0;34m)\u001b[0m\u001b[0;34m\u001b[0m\u001b[0m\n\u001b[1;32m     97\u001b[0m                     \u001b[0mtotal_loss\u001b[0m \u001b[0;34m=\u001b[0m \u001b[0;36m0.0\u001b[0m\u001b[0;34m\u001b[0m\u001b[0m\n\u001b[0;32m---> 98\u001b[0;31m             \u001b[0mself\u001b[0m\u001b[0;34m.\u001b[0m\u001b[0mvisualize_embeddings\u001b[0m\u001b[0;34m(\u001b[0m\u001b[0msess\u001b[0m\u001b[0;34m,\u001b[0m \u001b[0mwriter\u001b[0m\u001b[0;34m,\u001b[0m \u001b[0mlogdir\u001b[0m\u001b[0;34m)\u001b[0m\u001b[0;34m\u001b[0m\u001b[0m\n\u001b[0m\u001b[1;32m     99\u001b[0m             \u001b[0mwriter\u001b[0m\u001b[0;34m.\u001b[0m\u001b[0mclose\u001b[0m\u001b[0;34m(\u001b[0m\u001b[0;34m)\u001b[0m\u001b[0;34m\u001b[0m\u001b[0m\n",
      "\u001b[0;32m<ipython-input-17-27d913f016b5>\u001b[0m in \u001b[0;36mvisualize_embeddings\u001b[0;34m(self, sess, writer, logdir)\u001b[0m\n\u001b[1;32m     69\u001b[0m \u001b[0;34m\u001b[0m\u001b[0m\n\u001b[1;32m     70\u001b[0m         \u001b[0;31m# saves a configuration file that TensorBoard will read during startup.\u001b[0m\u001b[0;34m\u001b[0m\u001b[0;34m\u001b[0m\u001b[0m\n\u001b[0;32m---> 71\u001b[0;31m         \u001b[0mprojector\u001b[0m\u001b[0;34m.\u001b[0m\u001b[0mvisualize_embeddings\u001b[0m\u001b[0;34m(\u001b[0m\u001b[0msummary_writer\u001b[0m\u001b[0;34m,\u001b[0m \u001b[0mconfig\u001b[0m\u001b[0;34m)\u001b[0m\u001b[0;34m\u001b[0m\u001b[0m\n\u001b[0m\u001b[1;32m     72\u001b[0m         \u001b[0msaver_embed\u001b[0m \u001b[0;34m=\u001b[0m \u001b[0mtf\u001b[0m\u001b[0;34m.\u001b[0m\u001b[0mtrain\u001b[0m\u001b[0;34m.\u001b[0m\u001b[0mSaver\u001b[0m\u001b[0;34m(\u001b[0m\u001b[0;34m[\u001b[0m\u001b[0membedding_var\u001b[0m\u001b[0;34m]\u001b[0m\u001b[0;34m)\u001b[0m\u001b[0;34m\u001b[0m\u001b[0m\n\u001b[1;32m     73\u001b[0m         \u001b[0msaver_embed\u001b[0m\u001b[0;34m.\u001b[0m\u001b[0msave\u001b[0m\u001b[0;34m(\u001b[0m\u001b[0msess\u001b[0m\u001b[0;34m,\u001b[0m \u001b[0mlogdir\u001b[0m \u001b[0;34m+\u001b[0m \u001b[0;34m'embed.ckpt'\u001b[0m\u001b[0;34m,\u001b[0m \u001b[0;36m1\u001b[0m\u001b[0;34m)\u001b[0m\u001b[0;34m\u001b[0m\u001b[0m\n",
      "\u001b[0;31mNameError\u001b[0m: name 'summary_writer' is not defined"
     ]
    }
   ],
   "source": [
    "VOCAB_SIZE = 50000\n",
    "BATCH_SIZE = 128\n",
    "SKIP_WINDOW = 1\n",
    "\n",
    "tf.reset_default_graph()\n",
    "batch_gen = process_data(VOCAB_SIZE, BATCH_SIZE, SKIP_WINDOW)\n",
    "model = SkipGramModel(vocab_size=VOCAB_SIZE, batch_gen=BATCH_SIZE, skip_window=SKIP_WINDOW, learning_rate=0.5)\n",
    "model.fit(batch_gen)"
   ]
  },
  {
   "cell_type": "code",
   "execution_count": null,
   "metadata": {
    "collapsed": false
   },
   "outputs": [],
   "source": [
    "tf.get_collection(tf.GraphKeys.GLOBAL_VARIABLES)"
   ]
  },
  {
   "cell_type": "code",
   "execution_count": null,
   "metadata": {
    "collapsed": false
   },
   "outputs": [],
   "source": []
  },
  {
   "cell_type": "code",
   "execution_count": null,
   "metadata": {
    "collapsed": true
   },
   "outputs": [],
   "source": []
  }
 ],
 "metadata": {
  "kernelspec": {
   "display_name": "Python 3",
   "language": "python",
   "name": "python3"
  },
  "language_info": {
   "codemirror_mode": {
    "name": "ipython",
    "version": 3
   },
   "file_extension": ".py",
   "mimetype": "text/x-python",
   "name": "python",
   "nbconvert_exporter": "python",
   "pygments_lexer": "ipython3",
   "version": "3.5.3"
  }
 },
 "nbformat": 4,
 "nbformat_minor": 2
}
