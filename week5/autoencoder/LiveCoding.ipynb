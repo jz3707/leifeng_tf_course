{
 "cells": [
  {
   "cell_type": "code",
   "execution_count": 16,
   "metadata": {
    "collapsed": true,
    "deletable": true,
    "editable": true
   },
   "outputs": [],
   "source": [
    "from utils import load_dataset, get_next_batch\n",
    "import numpy as np\n",
    "import matplotlib\n",
    "\n",
    "%matplotlib inline\n",
    "\n",
    "import matplotlib.pyplot as plt"
   ]
  },
  {
   "cell_type": "code",
   "execution_count": 17,
   "metadata": {
    "collapsed": false,
    "deletable": true,
    "editable": true
   },
   "outputs": [
    {
     "name": "stdout",
     "output_type": "stream",
     "text": [
      "Extracting ../data/mnist/train-images-idx3-ubyte.gz\n",
      "Extracting ../data/mnist/train-labels-idx1-ubyte.gz\n",
      "Extracting ../data/mnist/t10k-images-idx3-ubyte.gz\n",
      "Extracting ../data/mnist/t10k-labels-idx1-ubyte.gz\n",
      "55000 images to train.\n"
     ]
    }
   ],
   "source": [
    "dataset = load_dataset()\n",
    "print(\"{} images to train.\".format(len(dataset.train.images)))"
   ]
  },
  {
   "cell_type": "code",
   "execution_count": 18,
   "metadata": {
    "collapsed": false,
    "deletable": true,
    "editable": true
   },
   "outputs": [
    {
     "data": {
      "text/plain": [
       "<matplotlib.image.AxesImage at 0x12195d5f8>"
      ]
     },
     "execution_count": 18,
     "metadata": {},
     "output_type": "execute_result"
    },
    {
     "data": {
      "image/png": "[encoded data removed]",
      "text/plain": [
       "<matplotlib.figure.Figure at 0x1217bbac8>"
      ]
     },
     "metadata": {},
     "output_type": "display_data"
    }
   ],
   "source": [
    "plt.imshow(np.reshape(dataset.train.images[0], (28, 28)), cmap='gray')"
   ]
  },
  {
   "cell_type": "code",
   "execution_count": 19,
   "metadata": {
    "collapsed": false,
    "deletable": true,
    "editable": true
   },
   "outputs": [],
   "source": [
    "import tensorflow as tf\n",
    "from layers import conv, deconv"
   ]
  },
  {
   "cell_type": "code",
   "execution_count": 20,
   "metadata": {
    "collapsed": true,
    "deletable": true,
    "editable": true
   },
   "outputs": [],
   "source": [
    "from layers import *\n",
    "\n",
    "\n",
    "def encoder(input):\n",
    "    # Create a conv network with 3 conv layers and 1 FC layer\n",
    "    # Conv 1: filter: [3, 3, 1], stride: [2, 2], relu\n",
    "    conv1 = conv(input, \"conv1\", [3, 3, 1], [2, 2])\n",
    "\n",
    "    # Conv 2: filter: [3, 3, 8], stride: [2, 2], relu\n",
    "    conv2 = conv(conv1, \"conv2\", [3, 3, 8], [2, 2])\n",
    "\n",
    "    # Conv 3: filter: [3, 3, 8], stride: [2, 2], relu\n",
    "    conv3 = conv(conv2, \"conv3\", [3, 3, 8], [2, 2])\n",
    "\n",
    "    # FC: output_dim: 100, no non-linearity\n",
    "    return fc(conv3, \"fc\", 100, non_linear_fn=None)\n",
    "\n",
    "def decoder(input):\n",
    "\n",
    "    # Create a deconv network with 1 FC layer and 3 deconv layers\n",
    "    # FC: output dim: 128, relu\n",
    "    de_fc = fc(input, \"de_fc\", 128)\n",
    "\n",
    "    # Reshape to [batch_size, 4, 4, 8]\n",
    "    de_fc = tf.reshape(de_fc, [-1, 4, 4, 8]) # 4x4x8\n",
    "\n",
    "    # Deconv 1: filter: [3, 3, 8], stride: [2, 2], relu\n",
    "    deconv1 = deconv(de_fc, \"deconv1\", [3, 3, 8], [2, 2]) # 8x8x8\n",
    "\n",
    "    # Deconv 2: filter: [8, 8, 1], stride: [2, 2], padding: valid, relu\n",
    "    deconv2 = deconv(deconv1, \"deconv2\", [8, 8, 1], [2, 2], padding='VALID') # 22x22x1\n",
    "\n",
    "    # Deconv 3: filter: [7, 7, 1], stride: [1, 1], padding: valid, sigmoid\n",
    "    return deconv(deconv2, \"deconv3\", [7, 7, 1], [1, 1], padding='VALID', non_linear_fn=tf.sigmoid)\n",
    "\n",
    "def autoencoder(input_shape):\n",
    "    # Define place holder with input shape\n",
    "    X = tf.placeholder(tf.float32, input_shape)\n",
    "\n",
    "    # Define variable scope for autoencoder\n",
    "    with tf.variable_scope('autoencoder') as scope:\n",
    "        # Pass input to encoder to obtain encoding\n",
    "        encoding = encoder(X)\n",
    "\n",
    "        # Pass encoding into decoder to obtain reconstructed image\n",
    "        decoding = decoder(encoding)\n",
    "\n",
    "        # Return input image (placeholder) and reconstructed image\n",
    "    return X, decoding"
   ]
  },
  {
   "cell_type": "code",
   "execution_count": 22,
   "metadata": {
    "collapsed": true
   },
   "outputs": [],
   "source": [
    "batch_size = 100\n",
    "batch_shape = (batch_size, 28, 28, 1)\n",
    "num_visualize = 10\n",
    "\n",
    "lr = 0.001\n",
    "num_epochs = 100\n",
    "\n",
    "\n",
    "def calculate_loss(original, reconstructed):\n",
    "    return tf.reduce_mean(tf.square(original - reconstructed))\n",
    "\n",
    "\n",
    "def train(dataset):\n",
    "    input_image, reconstructed_image = autoencoder(batch_shape)\n",
    "    loss = calculate_loss(input_image, reconstructed_image)\n",
    "    optimizer = tf.train.GradientDescentOptimizer(lr).minimize(loss)\n",
    "\n",
    "    init = tf.global_variables_initializer()\n",
    "    with tf.Session() as session:\n",
    "        session.run(init)\n",
    "\n",
    "        dataset_size = len(dataset.train.images)\n",
    "        print(\"Dataset size:\", dataset_size)\n",
    "        num_iters = (num_epochs * dataset_size) // batch_size\n",
    "        print(\"Num iters:\", num_iters)\n",
    "        for step in range(num_iters):\n",
    "            input_batch = get_next_batch(dataset.train, batch_size)\n",
    "            loss_val,  _ = session.run([loss, optimizer],\n",
    "                                       feed_dict={input_image: input_batch})\n",
    "            if step % 1000 == 0:\n",
    "                print(\"Loss at step\", step, \":\", loss_val)\n",
    "\n",
    "        test_batch = get_next_batch(dataset.test, batch_size)\n",
    "        reconstruction = session.run(reconstructed_image,\n",
    "                                     feed_dict={input_image: test_batch})\n",
    "        visualize(test_batch, reconstruction, num_visualize)"
   ]
  },
  {
   "cell_type": "code",
   "execution_count": 23,
   "metadata": {
    "collapsed": false
   },
   "outputs": [
    {
     "name": "stdout",
     "output_type": "stream",
     "text": [
      "input_dims: [100, 4, 4, 8]\n",
      "input_dims: [100, 8, 8, 8]\n",
      "input_dims: [100, 22, 22, 1]\n",
      "Dataset size: 55000\n",
      "Num iters: 55000\n",
      "Loss at step 0 : 0.232379\n",
      "Loss at step 1000 : 0.200832\n",
      "Loss at step 2000 : 0.178309\n",
      "Loss at step 3000 : 0.159577\n",
      "Loss at step 4000 : 0.147367\n",
      "Loss at step 5000 : 0.137355\n",
      "Loss at step 6000 : 0.130633\n",
      "Loss at step 7000 : 0.125742\n",
      "Loss at step 8000 : 0.118622\n",
      "Loss at step 9000 : 0.114817\n",
      "Loss at step 10000 : 0.111551\n",
      "Loss at step 11000 : 0.109428\n",
      "Loss at step 12000 : 0.107716\n",
      "Loss at step 13000 : 0.102672\n",
      "Loss at step 14000 : 0.100936\n",
      "Loss at step 15000 : 0.100761\n",
      "Loss at step 16000 : 0.0995392\n",
      "Loss at step 17000 : 0.0973229\n",
      "Loss at step 18000 : 0.0968966\n",
      "Loss at step 19000 : 0.097389\n",
      "Loss at step 20000 : 0.0960179\n",
      "Loss at step 21000 : 0.0908885\n",
      "Loss at step 22000 : 0.0892914\n",
      "Loss at step 23000 : 0.0910476\n",
      "Loss at step 24000 : 0.0903323\n",
      "Loss at step 25000 : 0.0893824\n",
      "Loss at step 26000 : 0.0870705\n",
      "Loss at step 27000 : 0.086131\n",
      "Loss at step 28000 : 0.0805529\n",
      "Loss at step 29000 : 0.0837135\n",
      "Loss at step 30000 : 0.0875154\n",
      "Loss at step 31000 : 0.082558\n",
      "Loss at step 32000 : 0.0824146\n",
      "Loss at step 33000 : 0.08009\n",
      "Loss at step 34000 : 0.0798794\n",
      "Loss at step 35000 : 0.0832867\n",
      "Loss at step 36000 : 0.0803564\n",
      "Loss at step 37000 : 0.080182\n",
      "Loss at step 38000 : 0.0803741\n",
      "Loss at step 39000 : 0.0809847\n",
      "Loss at step 40000 : 0.0786862\n",
      "Loss at step 41000 : 0.0810224\n",
      "Loss at step 42000 : 0.080426\n",
      "Loss at step 43000 : 0.0760731\n",
      "Loss at step 44000 : 0.0813853\n",
      "Loss at step 45000 : 0.0855144\n",
      "Loss at step 46000 : 0.0780567\n",
      "Loss at step 47000 : 0.0752177\n",
      "Loss at step 48000 : 0.0765378\n",
      "Loss at step 49000 : 0.0794576\n",
      "Loss at step 50000 : 0.0752546\n",
      "Loss at step 51000 : 0.0771069\n",
      "Loss at step 52000 : 0.0798644\n",
      "Loss at step 53000 : 0.0776471\n",
      "Loss at step 54000 : 0.0774607\n"
     ]
    },
    {
     "ename": "NameError",
     "evalue": "name 'visualize' is not defined",
     "output_type": "error",
     "traceback": [
      "\u001b[0;31m---------------------------------------------------------------------------\u001b[0m",
      "\u001b[0;31mNameError\u001b[0m                                 Traceback (most recent call last)",
      "\u001b[0;32m<ipython-input-23-57fd6b12a89a>\u001b[0m in \u001b[0;36m<module>\u001b[0;34m()\u001b[0m\n\u001b[1;32m      1\u001b[0m \u001b[0mtf\u001b[0m\u001b[0;34m.\u001b[0m\u001b[0mreset_default_graph\u001b[0m\u001b[0;34m(\u001b[0m\u001b[0;34m)\u001b[0m\u001b[0;34m\u001b[0m\u001b[0m\n\u001b[0;32m----> 2\u001b[0;31m \u001b[0mtrain\u001b[0m\u001b[0;34m(\u001b[0m\u001b[0mdataset\u001b[0m\u001b[0;34m)\u001b[0m\u001b[0;34m\u001b[0m\u001b[0m\n\u001b[0m",
      "\u001b[0;32m<ipython-input-22-d9c31d779628>\u001b[0m in \u001b[0;36mtrain\u001b[0;34m(dataset)\u001b[0m\n\u001b[1;32m     34\u001b[0m         reconstruction = session.run(reconstructed_image,\n\u001b[1;32m     35\u001b[0m                                      feed_dict={input_image: test_batch})\n\u001b[0;32m---> 36\u001b[0;31m         \u001b[0mvisualize\u001b[0m\u001b[0;34m(\u001b[0m\u001b[0mtest_batch\u001b[0m\u001b[0;34m,\u001b[0m \u001b[0mreconstruction\u001b[0m\u001b[0;34m,\u001b[0m \u001b[0mnum_visualize\u001b[0m\u001b[0;34m)\u001b[0m\u001b[0;34m\u001b[0m\u001b[0m\n\u001b[0m",
      "\u001b[0;31mNameError\u001b[0m: name 'visualize' is not defined"
     ]
    }
   ],
   "source": [
    "tf.reset_default_graph()\n",
    "train(dataset)"
   ]
  },
  {
   "cell_type": "code",
   "execution_count": 10,
   "metadata": {
    "collapsed": false,
    "scrolled": false
   },
   "outputs": [
    {
     "name": "stdout",
     "output_type": "stream",
     "text": [
      "input_dims: [100, 4, 4, 8]\n",
      "input_dims: [100, 8, 8, 8]\n",
      "input_dims: [100, 22, 22, 1]\n",
      "Dataset size: 55000\n",
      "Num iters: 55000\n",
      "Loss at step 0 : 0.232763\n",
      "Loss at step 1000 : 0.073729\n",
      "Loss at step 2000 : 0.0703369\n",
      "Loss at step 3000 : 0.0721711\n",
      "Loss at step 4000 : 0.0516097\n",
      "Loss at step 5000 : 0.0418827\n",
      "Loss at step 6000 : 0.040566\n",
      "Loss at step 7000 : 0.0378556\n",
      "Loss at step 8000 : 0.0373341\n",
      "Loss at step 9000 : 0.0380775\n",
      "Loss at step 10000 : 0.0368629\n",
      "Loss at step 11000 : 0.0351048\n",
      "Loss at step 12000 : 0.0357783\n",
      "Loss at step 13000 : 0.0353291\n",
      "Loss at step 14000 : 0.0350027\n",
      "Loss at step 15000 : 0.0311714\n",
      "Loss at step 16000 : 0.0325933\n",
      "Loss at step 17000 : 0.0334456\n",
      "Loss at step 18000 : 0.0335443\n",
      "Loss at step 19000 : 0.031052\n",
      "Loss at step 20000 : 0.0362132\n",
      "Loss at step 21000 : 0.0325593\n",
      "Loss at step 22000 : 0.0341177\n",
      "Loss at step 23000 : 0.0298249\n",
      "Loss at step 24000 : 0.032033\n",
      "Loss at step 25000 : 0.0314902\n",
      "Loss at step 26000 : 0.0297434\n",
      "Loss at step 27000 : 0.0331046\n",
      "Loss at step 28000 : 0.0309008\n",
      "Loss at step 29000 : 0.0328192\n",
      "Loss at step 30000 : 0.0297668\n",
      "Loss at step 31000 : 0.0333778\n",
      "Loss at step 32000 : 0.0323615\n",
      "Loss at step 33000 : 0.0299062\n",
      "Loss at step 34000 : 0.0291355\n",
      "Loss at step 35000 : 0.0311497\n",
      "Loss at step 36000 : 0.0322586\n",
      "Loss at step 37000 : 0.0283857\n",
      "Loss at step 38000 : 0.0306744\n",
      "Loss at step 39000 : 0.0279559\n",
      "Loss at step 40000 : 0.0291542\n",
      "Loss at step 41000 : 0.0273629\n",
      "Loss at step 42000 : 0.0264852\n",
      "Loss at step 43000 : 0.0290774\n",
      "Loss at step 44000 : 0.0268147\n",
      "Loss at step 45000 : 0.0288692\n",
      "Loss at step 46000 : 0.028248\n",
      "Loss at step 47000 : 0.029738\n",
      "Loss at step 48000 : 0.0300258\n",
      "Loss at step 49000 : 0.0275409\n",
      "Loss at step 50000 : 0.028112\n",
      "Loss at step 51000 : 0.0282909\n",
      "Loss at step 52000 : 0.0282777\n",
      "Loss at step 53000 : 0.0287345\n",
      "Loss at step 54000 : 0.0271183\n"
     ]
    },
    {
     "ename": "NameError",
     "evalue": "name 'visualize' is not defined",
     "output_type": "error",
     "traceback": [
      "\u001b[0;31m---------------------------------------------------------------------------\u001b[0m",
      "\u001b[0;31mNameError\u001b[0m                                 Traceback (most recent call last)",
      "\u001b[0;32m<ipython-input-10-57fd6b12a89a>\u001b[0m in \u001b[0;36m<module>\u001b[0;34m()\u001b[0m\n\u001b[1;32m      1\u001b[0m \u001b[0mtf\u001b[0m\u001b[0;34m.\u001b[0m\u001b[0mreset_default_graph\u001b[0m\u001b[0;34m(\u001b[0m\u001b[0;34m)\u001b[0m\u001b[0;34m\u001b[0m\u001b[0m\n\u001b[0;32m----> 2\u001b[0;31m \u001b[0mtrain\u001b[0m\u001b[0;34m(\u001b[0m\u001b[0mdataset\u001b[0m\u001b[0;34m)\u001b[0m\u001b[0;34m\u001b[0m\u001b[0m\n\u001b[0m",
      "\u001b[0;32m<ipython-input-6-3cb691bc8d1a>\u001b[0m in \u001b[0;36mtrain\u001b[0;34m(dataset)\u001b[0m\n\u001b[1;32m     34\u001b[0m         reconstruction = session.run(reconstructed_image,\n\u001b[1;32m     35\u001b[0m                                      feed_dict={input_image: test_batch})\n\u001b[0;32m---> 36\u001b[0;31m         \u001b[0mvisualize\u001b[0m\u001b[0;34m(\u001b[0m\u001b[0mtest_batch\u001b[0m\u001b[0;34m,\u001b[0m \u001b[0mreconstruction\u001b[0m\u001b[0;34m,\u001b[0m \u001b[0mnum_visualize\u001b[0m\u001b[0;34m)\u001b[0m\u001b[0;34m\u001b[0m\u001b[0m\n\u001b[0m",
      "\u001b[0;31mNameError\u001b[0m: name 'visualize' is not defined"
     ]
    }
   ],
   "source": [
    "tf.reset_default_graph()\n",
    "train(dataset)"
   ]
  },
  {
   "cell_type": "code",
   "execution_count": 13,
   "metadata": {
    "collapsed": false
   },
   "outputs": [
    {
     "name": "stdout",
     "output_type": "stream",
     "text": [
      "['./vis/test_1.png', './vis/test_10.png', './vis/test_2.png', './vis/test_3.png', './vis/test_4.png', './vis/test_5.png', './vis/test_6.png', './vis/test_7.png', './vis/test_8.png', './vis/test_9.png']\n"
     ]
    }
   ],
   "source": [
    "import glob\n",
    "\n",
    "images = glob.glob(\"./vis/*.png\")\n",
    "print(images)\n",
    "# for img in images:\n",
    "#     plt.imread(img)\n",
    "#     plt.figure()\n",
    "#     plt.imshow(img)"
   ]
  },
  {
   "cell_type": "code",
   "execution_count": null,
   "metadata": {
    "collapsed": true
   },
   "outputs": [],
   "source": []
  }
 ],
 "metadata": {
  "kernelspec": {
   "display_name": "Python 3",
   "language": "python",
   "name": "python3"
  },
  "language_info": {
   "codemirror_mode": {
    "name": "ipython",
    "version": 3
   },
   "file_extension": ".py",
   "mimetype": "text/x-python",
   "name": "python",
   "nbconvert_exporter": "python",
   "pygments_lexer": "ipython3",
   "version": "3.5.3"
  }
 },
 "nbformat": 4,
 "nbformat_minor": 2
}
