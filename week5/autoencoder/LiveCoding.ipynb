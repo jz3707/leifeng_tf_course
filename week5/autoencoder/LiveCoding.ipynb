{
 "cells": [
  {
   "cell_type": "code",
   "execution_count": 8,
   "metadata": {
    "collapsed": true,
    "deletable": true,
    "editable": true
   },
   "outputs": [],
   "source": [
    "from utils import load_dataset, get_next_batch\n",
    "import numpy as np\n",
    "import matplotlib\n",
    "\n",
    "%matplotlib inline\n",
    "\n",
    "import matplotlib.pyplot as plt"
   ]
  },
  {
   "cell_type": "code",
   "execution_count": 2,
   "metadata": {
    "collapsed": false,
    "deletable": true,
    "editable": true
   },
   "outputs": [
    {
     "name": "stdout",
     "output_type": "stream",
     "text": [
      "Successfully downloaded train-images-idx3-ubyte.gz 9912422 bytes.\n",
      "Extracting ../data/mnist/train-images-idx3-ubyte.gz\n",
      "Successfully downloaded train-labels-idx1-ubyte.gz 28881 bytes.\n",
      "Extracting ../data/mnist/train-labels-idx1-ubyte.gz\n",
      "Successfully downloaded t10k-images-idx3-ubyte.gz 1648877 bytes.\n",
      "Extracting ../data/mnist/t10k-images-idx3-ubyte.gz\n",
      "Successfully downloaded t10k-labels-idx1-ubyte.gz 4542 bytes.\n",
      "Extracting ../data/mnist/t10k-labels-idx1-ubyte.gz\n"
     ]
    }
   ],
   "source": [
    "dataset = load_dataset()\n",
    "print(\"{} images to train.\".format(len(dataset.train.images)))"
   ]
  },
  {
   "cell_type": "code",
   "execution_count": 3,
   "metadata": {
    "collapsed": false,
    "deletable": true,
    "editable": true
   },
   "outputs": [
    {
     "data": {
      "text/plain": [
       "<matplotlib.image.AxesImage at 0x11783a6d8>"
      ]
     },
     "execution_count": 3,
     "metadata": {},
     "output_type": "execute_result"
    },
    {
     "data": {
      "image/png": "[encoded data removed]",
      "text/plain": [
       "<matplotlib.figure.Figure at 0x11776c6a0>"
      ]
     },
     "metadata": {},
     "output_type": "display_data"
    }
   ],
   "source": [
    "plt.imshow(np.reshape(dataset.train.images[0], (28, 28)), cmap='gray')"
   ]
  },
  {
   "cell_type": "code",
   "execution_count": 4,
   "metadata": {
    "collapsed": false,
    "deletable": true,
    "editable": true
   },
   "outputs": [],
   "source": [
    "import tensorflow as tf\n",
    "from layers import conv, deconv"
   ]
  },
  {
   "cell_type": "code",
   "execution_count": 5,
   "metadata": {
    "collapsed": true,
    "deletable": true,
    "editable": true
   },
   "outputs": [],
   "source": [
    "from layers import *\n",
    "\n",
    "\n",
    "def encoder(input):\n",
    "    # Create a conv network with 3 conv layers and 1 FC layer\n",
    "    # Conv 1: filter: [3, 3, 1], stride: [2, 2], relu\n",
    "\n",
    "    conv1 = conv(input, \"conv1\", [3, 3, 1], [2, 2], padding='SAME')\n",
    "\n",
    "    # Conv 2: filter: [3, 3, 8], stride: [2, 2], relu\n",
    "\n",
    "    conv2 = conv(conv1, \"conv2\", [3, 3, 8], [2, 2], padding='SAME')\n",
    "\n",
    "    # Conv 3: filter: [3, 3, 8], stride: [2, 2], relu\n",
    "\n",
    "    conv3 = conv(conv2, \"conv3\", [3, 3, 8], [2, 2], padding='SAME')\n",
    "\n",
    "    # FC: output_dim: 100, no non-linearity\n",
    "    return fc(conv3, \"fc\", 100, non_linear_fn=None)\n",
    "\n",
    "def decoder(input):\n",
    "\n",
    "    # Create a deconv network with 1 FC layer and 3 deconv layers\n",
    "    # FC: output dim: 128, relu\n",
    "\n",
    "    fc_de = fc(input, \"decode_fc\", 128)\n",
    "\n",
    "    # Reshape to [batch_size, 4, 4, 8]\n",
    "    fc_de = tf.reshape(fc_de, [-1, 4, 4, 8])\n",
    "\n",
    "    # Deconv 1: filter: [3, 3, 8], stride: [2, 2], relu\n",
    "\n",
    "    deconv1 = deconv(fc_de, \"deconv1\", [3, 3, 8], [2, 2])\n",
    "\n",
    "    # Deconv 2: filter: [8, 8, 1], stride: [2, 2], padding: valid, relu\n",
    "\n",
    "    deconv2 = deconv(deconv1, \"deconv2\", [8, 8, 1], [2, 2], padding='VALID')\n",
    "\n",
    "    # Deconv 3: filter: [7, 7, 1], stride: [1, 1], padding: valid, sigmoid\n",
    "    deconv3 = deconv(deconv2, \"deconv3\", [7, 7, 1], [1, 1], padding='VALID',\n",
    "                     non_linear_fn=tf.sigmoid)\n",
    "\n",
    "    return deconv3\n",
    "\n",
    "def autoencoder(input_shape):\n",
    "    # Define place holder with input shape\n",
    "    X = tf.placeholder(tf.float32, input_shape)\n",
    "\n",
    "    # Define variable scope for autoencoder\n",
    "    with tf.variable_scope('autoencoder') as scope:\n",
    "        # Pass input to encoder to obtain encoding\n",
    "        encoding = encoder(X)\n",
    "\n",
    "        # Pass encoding into decoder to obtain reconstructed image\n",
    "        decoding = decoder(encoding)\n",
    "\n",
    "        # Return input image (placeholder) and reconstructed image\n",
    "    return X, decoding"
   ]
  },
  {
   "cell_type": "code",
   "execution_count": 6,
   "metadata": {
    "collapsed": true
   },
   "outputs": [],
   "source": [
    "batch_size = 100\n",
    "batch_shape = (batch_size, 28, 28, 1)\n",
    "num_visualize = 10\n",
    "\n",
    "lr = 0.001\n",
    "num_epochs = 100\n",
    "\n",
    "\n",
    "def calculate_loss(original, reconstructed):\n",
    "    return tf.reduce_mean(tf.square(reconstructed - original))\n",
    "\n",
    "\n",
    "def train(dataset):\n",
    "    input_image, reconstructed_image = autoencoder(batch_shape)\n",
    "    loss = calculate_loss(input_image, reconstructed_image)\n",
    "    optimizer = tf.train.AdamOptimizer(lr).minimize(loss)\n",
    "\n",
    "    init = tf.global_variables_initializer()\n",
    "    with tf.Session() as session:\n",
    "        session.run(init)\n",
    "\n",
    "        dataset_size = len(dataset.train.images)\n",
    "        print(\"Dataset size:\", dataset_size)\n",
    "        num_iters = (num_epochs * dataset_size) // batch_size\n",
    "        print(\"Num iters:\", num_iters)\n",
    "        for step in range(num_iters):\n",
    "            input_batch = get_next_batch(dataset.train, batch_size)\n",
    "            loss_val,  _ = session.run([loss, optimizer],\n",
    "                                       feed_dict={input_image: input_batch})\n",
    "            if step % 1000 == 0:\n",
    "                print(\"Loss at step\", step, \":\", loss_val)\n",
    "\n",
    "        test_batch = get_next_batch(dataset.test, batch_size)\n",
    "        reconstruction = session.run(reconstructed_image,\n",
    "                                     feed_dict={input_image: test_batch})\n",
    "        visualize(test_batch, reconstruction, num_visualize)"
   ]
  },
  {
   "cell_type": "code",
   "execution_count": null,
   "metadata": {
    "collapsed": false
   },
   "outputs": [
    {
     "name": "stdout",
     "output_type": "stream",
     "text": [
      "input_dims: [100, 4, 4, 8]\n",
      "input_dims: [100, 8, 8, 8]\n",
      "input_dims: [100, 22, 22, 1]\n",
      "Dataset size: 55000\n",
      "Num iters: 55000\n",
      "Loss at step 0 : 0.232763\n",
      "Loss at step 1000 : 0.073729\n",
      "Loss at step 2000 : 0.0703369\n",
      "Loss at step 3000 : 0.0721711\n",
      "Loss at step 4000 : 0.0516097\n",
      "Loss at step 5000 : 0.0418827\n",
      "Loss at step 6000 : 0.040566\n"
     ]
    }
   ],
   "source": [
    "tf.reset_default_graph()\n",
    "train(dataset)"
   ]
  },
  {
   "cell_type": "code",
   "execution_count": null,
   "metadata": {
    "collapsed": true
   },
   "outputs": [],
   "source": []
  }
 ],
 "metadata": {
  "kernelspec": {
   "display_name": "Python 3",
   "language": "python",
   "name": "python3"
  },
  "language_info": {
   "codemirror_mode": {
    "name": "ipython",
    "version": 3
   },
   "file_extension": ".py",
   "mimetype": "text/x-python",
   "name": "python",
   "nbconvert_exporter": "python",
   "pygments_lexer": "ipython3",
   "version": "3.5.3"
  }
 },
 "nbformat": 4,
 "nbformat_minor": 2
}
